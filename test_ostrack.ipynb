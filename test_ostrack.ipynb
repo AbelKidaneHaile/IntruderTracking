{
 "cells": [
  {
   "cell_type": "markdown",
   "metadata": {},
   "source": [
    "Code to test OSTrack"
   ]
  },
  {
   "cell_type": "markdown",
   "metadata": {},
   "source": [
    "N.B. put this file on the desktop (a must)"
   ]
  },
  {
   "cell_type": "code",
   "execution_count": 1,
   "metadata": {},
   "outputs": [],
   "source": [
    "# import all the neccessary libraries\n",
    "import numpy as np \n",
    "import cv2\n",
    "import matplotlib.pyplot as plt \n",
    "import os\n",
    "\n",
    "# add your imports to the tracker file you wrote and any other dependencies"
   ]
  },
  {
   "cell_type": "code",
   "execution_count": null,
   "metadata": {},
   "outputs": [],
   "source": [
    "# append the directory to the environment in order to access that directory from the desktop\n",
    "pathtoostrack = 'insert/path/to/ostrackfolder'\n",
    "prj_path = os.path.join(pathtoostrack)\n",
    "if prj_path not in sys.path:\n",
    "    sys.path.append(prj_path)"
   ]
  },
  {
   "cell_type": "markdown",
   "metadata": {},
   "source": [
    "The above tasks are already done in our combined code so far. What you need to do is to have a code for initializing the tracker first. "
   ]
  },
  {
   "cell_type": "code",
   "execution_count": null,
   "metadata": {},
   "outputs": [],
   "source": [
    "ostrack = trackerclassthatyouwrote(insert-initialization-parameters) # change the name based on what you wrote, the class should have a dander init \n",
    "# the initialization parameters are the model paths, other parameters paths and configurations"
   ]
  },
  {
   "cell_type": "code",
   "execution_count": 3,
   "metadata": {},
   "outputs": [],
   "source": [
    "# to simulate the scenario that the images have been read have the 2 frames as images in this directory and read them using cv2\n",
    "frame1 = cv2.imread('path to frame 1')\n",
    "frame2 = cv2.imread('path to frame 2')\n",
    "\n",
    "# also simulate the scenario that you also have the bounding box of the intruder in the first frame\n",
    "bbox1 = () # insert the initial bbox "
   ]
  },
  {
   "cell_type": "code",
   "execution_count": null,
   "metadata": {},
   "outputs": [],
   "source": [
    "# display the images to visualize it \n",
    "img = cv2.cvtColor(frame1, cv2.COLOR_BGR2RGB)\n",
    "plt.imshow(img)\n",
    "plt.axis('off')\n",
    "plt.title('Frame 1')\n",
    "plt.show()"
   ]
  },
  {
   "cell_type": "code",
   "execution_count": null,
   "metadata": {},
   "outputs": [],
   "source": [
    "img = cv2.cvtColor(frame2, cv2.COLOR_BGR2RGB)\n",
    "plt.imshow(img)\n",
    "plt.axis('off')\n",
    "plt.title('Frame 2')\n",
    "plt.show()"
   ]
  },
  {
   "cell_type": "markdown",
   "metadata": {},
   "source": [
    "The class that you wrote then should have some kind of update method inside it that return the predicted bbox on frame2"
   ]
  },
  {
   "cell_type": "code",
   "execution_count": null,
   "metadata": {},
   "outputs": [],
   "source": [
    "bbox2 = ostrack(frame1, frame2, bbox1) "
   ]
  },
  {
   "cell_type": "code",
   "execution_count": null,
   "metadata": {},
   "outputs": [],
   "source": [
    "print(bbox2)"
   ]
  },
  {
   "cell_type": "markdown",
   "metadata": {},
   "source": [
    "Now, you should also be able to do the prediction without having to re-initialize it again. (extremely important)"
   ]
  },
  {
   "cell_type": "code",
   "execution_count": null,
   "metadata": {},
   "outputs": [],
   "source": [
    "bbox2 = ostrack(frame1, frame2, bbox1) \n",
    "print(bbox2)"
   ]
  }
 ],
 "metadata": {
  "kernelspec": {
   "display_name": "Python 3",
   "language": "python",
   "name": "python3"
  },
  "language_info": {
   "codemirror_mode": {
    "name": "ipython",
    "version": 3
   },
   "file_extension": ".py",
   "mimetype": "text/x-python",
   "name": "python",
   "nbconvert_exporter": "python",
   "pygments_lexer": "ipython3",
   "version": "3.10.9"
  }
 },
 "nbformat": 4,
 "nbformat_minor": 2
}
